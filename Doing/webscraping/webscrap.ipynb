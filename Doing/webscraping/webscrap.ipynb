{
 "metadata": {
  "language_info": {
   "codemirror_mode": {
    "name": "ipython",
    "version": 3
   },
   "file_extension": ".py",
   "mimetype": "text/x-python",
   "name": "python",
   "nbconvert_exporter": "python",
   "pygments_lexer": "ipython3",
   "version": "3.7.4-final"
  },
  "orig_nbformat": 2,
  "kernelspec": {
   "name": "python3",
   "display_name": "Python 3.7.4 32-bit",
   "metadata": {
    "interpreter": {
     "hash": "07d56144524900fd8015c6f84f0920784b3f1790b2e4efd6f80962c7847ff7a6"
    }
   }
  }
 },
 "nbformat": 4,
 "nbformat_minor": 2,
 "cells": [
  {
   "cell_type": "code",
   "execution_count": 3,
   "metadata": {},
   "outputs": [
    {
     "output_type": "stream",
     "name": "stdout",
     "text": [
      "<!DOCTYPE html>\n<html lang=\"en\">\n <head>\n  <meta charset=\"utf-8\"/>\n  <meta content=\"width=device-width, initial-scale=1, shrink-to-fit=no\" name=\"viewport\"/>\n  <link crossorigin=\"anonymous\" href=\"https://stackpath.bootstrapcdn.com/bootstrap/4.5.2/css/bootstrap.min.css\" integrity=\"sha384-JcKb8q3iqJ61gNV9KGb8thSsNjpSL0n8PARn9HuZOnIxN0hoP+VmmDGMN5t9UJ0Z\" rel=\"stylesheet\"/>\n  <title>\n   My Courses\n  </title>\n </head>\n <body>\n  <h1>\n   Hello, Start Learning!\n  </h1>\n  <div class=\"card\" id=\"card-python-for-beginners\">\n   <div class=\"card-header\">\n    Python\n   </div>\n   <div class=\"card-body\">\n    <h5 class=\"card-title\">\n     Python for beginners\n    </h5>\n    <p class=\"card-text\">\n     If you are new to Python, this is the course that you should buy!\n    </p>\n    <a class=\"btn btn-primary\" href=\"#\">\n     Start for 20$\n    </a>\n   </div>\n  </div>\n  <div class=\"card\" id=\"card-python-web-development\">\n   <div class=\"card-header\">\n    Python\n   </div>\n   <div class=\"card-body\">\n    <h5 class=\"card-title\">\n     Python Web Development\n    </h5>\n    <p class=\"card-text\">\n     If you feel enough confident with python, you are ready to learn how to create your own website!\n    </p>\n    <a class=\"btn btn-primary\" href=\"#\">\n     Start for 50$\n    </a>\n   </div>\n  </div>\n  <div class=\"card\" id=\"card-python-machine-learning\">\n   <div class=\"card-header\">\n    Python\n   </div>\n   <div class=\"card-body\">\n    <h5 class=\"card-title\">\n     Python Machine Learning\n    </h5>\n    <p class=\"card-text\">\n     Become a Python Machine Learning master!\n    </p>\n    <a class=\"btn btn-primary\" href=\"#\">\n     Start for 100$\n    </a>\n   </div>\n  </div>\n </body>\n</html>\n<h5 class=\"card-title\">Python for beginners</h5>\n<h5 class=\"card-title\">Python Web Development</h5>\n<h5 class=\"card-title\">Python Machine Learning</h5>\n"
     ]
    }
   ],
   "source": [
    "from bs4 import BeautifulSoup\n",
    "\n",
    "with open(\"Home.html\", 'r') as home_html:\n",
    "\tcontent = home_html.read()\n",
    "\t# print(content)\n",
    "\n",
    "\tsoup = BeautifulSoup(content, 'lxml')\n",
    "\t# print all \n",
    "\tprint(soup.prettify())\n",
    "\ttags = soup.find_all('h5')\n",
    "\tfor tag in tags:\n",
    "\t\tprint(tag)"
   ]
  },
  {
   "cell_type": "code",
   "execution_count": 4,
   "metadata": {},
   "outputs": [
    {
     "output_type": "stream",
     "name": "stdout",
     "text": [
      "<div class=\"card\" id=\"card-python-for-beginners\">\n<div class=\"card-header\">\n            Python\n         </div>\n<div class=\"card-body\">\n<h5 class=\"card-title\">Python for beginners</h5>\n<p class=\"card-text\">If you are new to Python, this is the course that you should buy!</p>\n<a class=\"btn btn-primary\" href=\"#\">Start for 20$</a>\n</div>\n</div>\n<div class=\"card\" id=\"card-python-web-development\">\n<div class=\"card-header\">\n            Python\n         </div>\n<div class=\"card-body\">\n<h5 class=\"card-title\">Python Web Development</h5>\n<p class=\"card-text\">If you feel enough confident with python, you are ready to learn how to create your own website!</p>\n<a class=\"btn btn-primary\" href=\"#\">Start for 50$</a>\n</div>\n</div>\n<div class=\"card\" id=\"card-python-machine-learning\">\n<div class=\"card-header\">\n            Python\n         </div>\n<div class=\"card-body\">\n<h5 class=\"card-title\">Python Machine Learning</h5>\n<p class=\"card-text\">Become a Python Machine Learning master!</p>\n<a class=\"btn btn-primary\" href=\"#\">Start for 100$</a>\n</div>\n</div>\n"
     ]
    }
   ],
   "source": [
    "from bs4 import BeautifulSoup\n",
    "\n",
    "with open(\"Home.html\", 'r') as home_html:\n",
    "\tcontent = home_html.read()\n",
    "\t# print(content)\n",
    "\n",
    "cards = soup.find_all('div', class_='card')\n",
    "for card in cards:\n",
    "    print(card)"
   ]
  },
  {
   "cell_type": "code",
   "execution_count": null,
   "metadata": {},
   "outputs": [],
   "source": []
  }
 ]
}