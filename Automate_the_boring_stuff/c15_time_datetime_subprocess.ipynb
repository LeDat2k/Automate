{
 "metadata": {
  "language_info": {
   "codemirror_mode": {
    "name": "ipython",
    "version": 3
   },
   "file_extension": ".py",
   "mimetype": "text/x-python",
   "name": "python",
   "nbconvert_exporter": "python",
   "pygments_lexer": "ipython3",
   "version": "3.7.4"
  },
  "orig_nbformat": 2,
  "kernelspec": {
   "name": "python3",
   "display_name": "Python 3.7.4 32-bit",
   "metadata": {
    "interpreter": {
     "hash": "07d56144524900fd8015c6f84f0920784b3f1790b2e4efd6f80962c7847ff7a6"
    }
   }
  }
 },
 "nbformat": 4,
 "nbformat_minor": 2,
 "cells": [
  {
   "cell_type": "code",
   "execution_count": 3,
   "metadata": {},
   "outputs": [
    {
     "output_type": "execute_result",
     "data": {
      "text/plain": [
       "<subprocess.Popen at 0x5d77b30>"
      ]
     },
     "metadata": {},
     "execution_count": 3
    }
   ],
   "source": [
    "import time, datetime, subprocess\n",
    "# open file as default app: .docx, yes! every app\n",
    "filePath = r\"D:\\1.IT\\Python\\Automate\\znote.txt\"\n",
    "subprocess.Popen(['start', filePath], shell=True)\n"
   ]
  },
  {
   "cell_type": "code",
   "execution_count": 24,
   "metadata": {},
   "outputs": [
    {
     "output_type": "execute_result",
     "data": {
      "text/plain": [
       "(0, 0, 0)"
      ]
     },
     "metadata": {},
     "execution_count": 24
    }
   ],
   "source": [
    "h=0\n",
    "m=0\n",
    "s=0\n",
    "\n",
    "def secondBefore(h, m, s):\n",
    "\ts-=1\n",
    "\n",
    "\tif s<0:\n",
    "\t\ts=59\n",
    "\t\tm-=1\n",
    "\t\tif m<0:\n",
    "\t\t\tm=59\n",
    "\t\t\th-=1\n",
    "\t\t\tif h<0:\n",
    "\t\t\t\treturn 0, 0, 0\n",
    "\n",
    "\treturn h, m, s\n",
    "\n",
    "secondBefore(h,m,s)"
   ]
  }
 ]
}