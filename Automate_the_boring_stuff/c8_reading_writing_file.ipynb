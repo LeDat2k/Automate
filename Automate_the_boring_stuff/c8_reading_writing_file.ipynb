{
 "metadata": {
  "language_info": {
   "codemirror_mode": {
    "name": "ipython",
    "version": 3
   },
   "file_extension": ".py",
   "mimetype": "text/x-python",
   "name": "python",
   "nbconvert_exporter": "python",
   "pygments_lexer": "ipython3",
   "version": "3.7.4"
  },
  "orig_nbformat": 2,
  "kernelspec": {
   "name": "python3",
   "display_name": "Python 3.7.4 32-bit",
   "metadata": {
    "interpreter": {
     "hash": "07d56144524900fd8015c6f84f0920784b3f1790b2e4efd6f80962c7847ff7a6"
    }
   }
  }
 },
 "nbformat": 4,
 "nbformat_minor": 2,
 "cells": [
  {
   "cell_type": "code",
   "execution_count": 7,
   "metadata": {},
   "outputs": [
    {
     "output_type": "execute_result",
     "data": {
      "text/plain": [
       "'d:\\\\1.IT\\\\Python\\\\Automate\\\\Automate_the_boring_stuff'"
      ]
     },
     "metadata": {},
     "execution_count": 7
    }
   ],
   "source": [
    "import os\n",
    "# Where this file is?\n",
    "thisFilePath = os.path.abspath('.')\n",
    "thisFilePath"
   ]
  },
  {
   "cell_type": "code",
   "execution_count": 10,
   "metadata": {},
   "outputs": [
    {
     "output_type": "execute_result",
     "data": {
      "text/plain": [
       "['Automate_The_Boring_Stuff_With_Python.pdf',\n",
       " 'c11_seleniumController.py',\n",
       " 'c15_datetime.py',\n",
       " 'c8_reading_writing_file.ipynb',\n",
       " 'c8_reading_writing_file.py',\n",
       " 'CSV_chap14.py',\n",
       " 'example.csv',\n",
       " 'geckodriver.log',\n",
       " 'organizing_file_9.py',\n",
       " 'runps1.py',\n",
       " 'stopwatch_chap15.py',\n",
       " 'timerCountDown.py']"
      ]
     },
     "metadata": {},
     "execution_count": 10
    }
   ],
   "source": [
    "# list all file in path's folder as a list\n",
    "os.listdir(thisFilePath)"
   ]
  },
  {
   "cell_type": "code",
   "execution_count": 13,
   "metadata": {},
   "outputs": [
    {
     "output_type": "execute_result",
     "data": {
      "text/plain": [
       "'d:\\\\1.IT\\\\Python\\\\Automate\\\\Automate_the_boring_stuff'"
      ]
     },
     "metadata": {},
     "execution_count": 13
    }
   ],
   "source": [
    "# cd to path \n",
    "os.chdir(thisFilePath)\n",
    "os.getcwd()"
   ]
  },
  {
   "cell_type": "code",
   "execution_count": 20,
   "metadata": {},
   "outputs": [
    {
     "output_type": "execute_result",
     "data": {
      "text/plain": [
       "('d:\\\\1.IT\\\\Python\\\\Automate\\\\Automate_the_boring_stuff',\n",
       " 'c8_reading_writing_file.ipynb')"
      ]
     },
     "metadata": {},
     "execution_count": 20
    }
   ],
   "source": [
    "path = 'd:\\\\1.IT\\\\Python\\\\Automate\\\\Automate_the_boring_stuff\\\\c8_reading_writing_file.ipynb'\n",
    "thisFileName = os.path.basename(path)\n",
    "thisFilePath = os.path.dirname(path)\n",
    "thisFilePath, thisFileName\n"
   ]
  },
  {
   "cell_type": "code",
   "execution_count": null,
   "metadata": {},
   "outputs": [],
   "source": []
  }
 ]
}