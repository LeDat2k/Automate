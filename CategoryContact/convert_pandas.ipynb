{
 "cells": [
  {
   "cell_type": "code",
   "execution_count": 163,
   "metadata": {},
   "outputs": [],
   "source": [
    "import numpy as np\n",
    "import pandas as pd\n",
    "import matplotlib.pyplot as plt\n",
    "import seaborn as sns\n",
    "\n",
    "df = pd.read_csv('contacts.csv')\n",
    "# Name : all combine\n",
    "\n",
    "# Those people who have 2 numbers but I didn't categorize them : 8080853532 ::: 25808874232\n"
   ]
  },
  {
   "cell_type": "code",
   "execution_count": 164,
   "metadata": {},
   "outputs": [],
   "source": [
    "# use 1 name only: \"Given Name\"\n",
    "for i, name in enumerate(df['Given Name']):\n",
    "    if str(df.at[i, 'Additional Name']) != 'nan':\n",
    "        df.at[i, 'Given Name'] += ' ' + str(df.at[i, 'Additional Name']) \n",
    "        df.at[i, 'Additional Name'] = ''\n",
    "    \n",
    "    if str(df.at[i, 'Family Name']) != 'nan':\n",
    "        df.at[i, 'Given Name'] += ' ' + str(df.at[i, 'Family Name'])\n",
    "        df.at[i, 'Family Name'] = ''"
   ]
  },
  {
   "cell_type": "code",
   "execution_count": 165,
   "metadata": {},
   "outputs": [],
   "source": [
    "#  ::: \n",
    "# split merged numbers\n",
    "for i, value in enumerate(df['Phone 1 - Value']):\n",
    "    if value.find(':::') != -1:\n",
    "        numbers = value.split(' ::: ')\n",
    "        df.at[i, 'Phone 1 - Value'] = numbers[0]\n",
    "        df.at[i, 'Phone 2 - Value'] = numbers[1]"
   ]
  },
  {
   "cell_type": "code",
   "execution_count": 167,
   "metadata": {},
   "outputs": [],
   "source": [
    "\n",
    "# take 3 first letter of df['Phone 1 - Value']\n",
    "# check backthem in ./MobileNetwork.csv\n",
    "# Take code print it back to df['Phone 1 - Type']\n",
    "mobile = pd.read_csv('./mobileNetwork.csv')\n",
    "head_number = ''\n",
    "for i, num in enumerate(df['Phone 1 - Value']):\n",
    "    # take 3 first number\n",
    "    if (str(num[:3]).find(' ') != -1):\n",
    "        # case : \"08 7\"=> 087\n",
    "        head_number = str(num[:4]).replace(' ', '')\n",
    "    else:    \n",
    "        head_number = str(num[:3])\n",
    "\n",
    "    # check network code lookup with ./mobileNetwork.csv \n",
    "    network_code = mobile.network.loc[mobile['head_number']==int(head_number)].values\n",
    "    if network_code.size<=0:\n",
    "        continue\n",
    "    else:\n",
    "        network_code = network_code[0]\n",
    "    \n",
    "    df.at[i, 'Phone 1 - Type'] = network_code\n",
    "\n",
    "############################ \n",
    "for i, num in enumerate(df['Phone 2 - Value']):\n",
    "    if str(num) == 'nan':\n",
    "        continue\n",
    "    if (str(num[:3]).find(' ') != -1):\n",
    "        head_number = str(num[:4]).replace(' ', '')\n",
    "    else:    \n",
    "        head_number = str(num[:3])\n",
    "    \n",
    "    network_code = mobile.network.loc[mobile['head_number']==int(head_number)].values\n",
    "    if network_code.size<=0:\n",
    "        continue\n",
    "    else:\n",
    "        network_code = network_code[0]\n",
    "    \n",
    "    df.at[i, 'Phone 2 - Type'] = network_code\n",
    "\n"
   ]
  },
  {
   "cell_type": "code",
   "execution_count": null,
   "metadata": {},
   "outputs": [],
   "source": [
    "df.to_csv('out.csv', index=False)   "
   ]
  },
  {
   "cell_type": "code",
   "execution_count": null,
   "metadata": {},
   "outputs": [],
   "source": []
  }
 ],
 "metadata": {
  "interpreter": {
   "hash": "df0893f56f349688326838aaeea0de204df53a132722cbd565e54b24a8fec5f6"
  },
  "kernelspec": {
   "display_name": "Python 3.8.10 64-bit",
   "language": "python",
   "name": "python3"
  },
  "language_info": {
   "codemirror_mode": {
    "name": "ipython",
    "version": 3
   },
   "file_extension": ".py",
   "mimetype": "text/x-python",
   "name": "python",
   "nbconvert_exporter": "python",
   "pygments_lexer": "ipython3",
   "version": "3.8.10"
  },
  "orig_nbformat": 4
 },
 "nbformat": 4,
 "nbformat_minor": 2
}
